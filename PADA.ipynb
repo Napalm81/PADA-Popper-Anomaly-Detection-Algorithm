{
 "cells": [
  {
   "cell_type": "code",
   "execution_count": null,
   "id": "4183bafd",
   "metadata": {},
   "outputs": [],
   "source": [
    "import numpy as np\n",
    "import pandas as pd\n",
    "from popper.util import Settings, print_prog_score\n",
    "from popper.loop import learn_solution"
   ]
  },
  {
   "cell_type": "code",
   "execution_count": null,
   "id": "e14001f2",
   "metadata": {},
   "outputs": [],
   "source": [
    "def modify_exs_file(path_exs, content, line):\n",
    "    new_content = list()\n",
    "\n",
    "    for i in range(len(content)):\n",
    "        if i == line:\n",
    "            if content[line].startswith('pos'):\n",
    "                new_content.append(content[line].replace('pos', 'neg'))\n",
    "            elif content[line].startswith('neg'):\n",
    "                new_content.append(content[line].replace('neg', 'pos'))\n",
    "            else:\n",
    "                new_content.append(content[line])\n",
    "        else:\n",
    "            new_content.append(content[i])\n",
    " \n",
    "    with open(path_exs_file, 'w') as exs_file:\n",
    "        exs_file.writelines(new_content)\n",
    "    exs_file.close()\n",
    "    return()"
   ]
  },
  {
   "cell_type": "code",
   "execution_count": null,
   "id": "80f57973",
   "metadata": {},
   "outputs": [],
   "source": [
    "def PADA(path, time_out):\n",
    "    anomalies = list()\n",
    "    analisys = list()\n",
    "    cols = ['TP', 'FN', 'TN', 'FP', 'Size']\n",
    "    data = Settings(kbpath = path, timeout = time_out)\n",
    "    path_exs = path + '/exs.pl'\n",
    "    next_iter = 1\n",
    "    \n",
    "    with open(path_exs, 'r') as exs_file:\n",
    "        content = exs_file.readlines()\n",
    "    exs_file.close()\n",
    "    num_exs = len(content)\n",
    "\n",
    "    while(next_iter):\n",
    "        for i in range(num_exs + 1):\n",
    "            modify_exs_file(path_exs, content, i)\n",
    "            prg, res, est = learn_solution(data)\n",
    "            if prg != None:\n",
    "                analisys.append(res)\n",
    "            else:\n",
    "                analisys.append((np.NaN, np.NaN, np.NaN, np.NaN, np.NaN))\n",
    "            modify_exs_file(path_exs, content, i)\n",
    "        \n",
    "        df = pd.DataFrame(analisys, columns=cols)\n",
    "        df['Errors'] = df['FN'] + df['FP']\n",
    "        anomaly = df[df.Errors == df['Errors'].min()].idxmin()['Size'] # Hay que añadir max de index -> 2 o más soluciones con = size\n",
    "        if anomaly == num_exs:\n",
    "            next_iter = 0\n",
    "        else:\n",
    "            anomalies.append(anomaly)\n",
    "            modify_exs_file(path_exs, content, anomaly)\n",
    "    return(anomalies)"
   ]
  }
 ],
 "metadata": {
  "kernelspec": {
   "display_name": "Python 3 (ipykernel)",
   "language": "python",
   "name": "python3"
  },
  "language_info": {
   "codemirror_mode": {
    "name": "ipython",
    "version": 3
   },
   "file_extension": ".py",
   "mimetype": "text/x-python",
   "name": "python",
   "nbconvert_exporter": "python",
   "pygments_lexer": "ipython3",
   "version": "3.9.12"
  }
 },
 "nbformat": 4,
 "nbformat_minor": 5
}
