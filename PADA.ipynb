{
 "cells": [
  {
   "cell_type": "code",
   "execution_count": null,
   "id": "4183bafd",
   "metadata": {},
   "outputs": [],
   "source": [
    "import numpy as np\n",
    "import pandas as pd\n",
    "from popper.util import Settings, print_prog_score\n",
    "from popper.loop import learn_solution"
   ]
  },
  {
   "cell_type": "code",
   "execution_count": null,
   "id": "e14001f2",
   "metadata": {},
   "outputs": [],
   "source": [
    "def modify_exs_file(path_exs, content, line):\n",
    "    new_content = list()\n",
    "\n",
    "    for i in range(len(content)):\n",
    "        if i == line:\n",
    "            if content[line].startswith('pos'):\n",
    "                new_content.append(content[line].replace('pos', 'neg'))\n",
    "            elif content[line].startswith('neg'):\n",
    "                new_content.append(content[line].replace('neg', 'pos'))\n",
    "            else:\n",
    "                new_content.append(content[line])\n",
    "        else:\n",
    "            new_content.append(content[i])\n",
    " \n",
    "    with open(path_exs_file, 'w') as exs_file:\n",
    "        exs_file.writelines(new_content)\n",
    "    exs_file.close()\n",
    "    return()"
   ]
  },
  {
   "cell_type": "code",
   "execution_count": null,
   "id": "80f57973",
   "metadata": {},
   "outputs": [],
   "source": [
    "def modify_exs_file(path_exs, content, line):\n",
    "    new_content = list()\n",
    "\n",
    "    for i in range(len(content)):\n",
    "        if i == line:\n",
    "            if content[line].startswith('pos'):\n",
    "                new_content.append(content[line].replace('pos', 'neg'))\n",
    "            elif content[line].startswith('neg'):\n",
    "                new_content.append(content[line].replace('neg', 'pos'))\n",
    "            else:\n",
    "                new_content.append(content[line])\n",
    "        else:\n",
    "            new_content.append(content[i])\n",
    " \n",
    "    with open(path_exs_file, 'w') as exs_file:\n",
    "        exs_file.writelines(new_content)\n",
    "    exs_file.close()\n",
    "    return()"
   ]
  }
 ],
 "metadata": {
  "kernelspec": {
   "display_name": "Python 3 (ipykernel)",
   "language": "python",
   "name": "python3"
  },
  "language_info": {
   "codemirror_mode": {
    "name": "ipython",
    "version": 3
   },
   "file_extension": ".py",
   "mimetype": "text/x-python",
   "name": "python",
   "nbconvert_exporter": "python",
   "pygments_lexer": "ipython3",
   "version": "3.9.12"
  }
 },
 "nbformat": 4,
 "nbformat_minor": 5
}
